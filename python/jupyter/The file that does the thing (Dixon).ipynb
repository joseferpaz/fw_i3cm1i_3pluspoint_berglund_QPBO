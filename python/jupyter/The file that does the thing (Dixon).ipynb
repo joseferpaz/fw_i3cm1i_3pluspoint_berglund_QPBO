{
 "cells": [
  {
   "cell_type": "markdown",
   "metadata": {},
   "source": [
    "Name TBD"
   ]
  },
  {
   "cell_type": "code",
   "execution_count": 118,
   "metadata": {
    "collapsed": true
   },
   "outputs": [],
   "source": [
    "import scipy.io as sio\n",
    "import numpy as np\n",
    "import os\n",
    "import re\n",
    "from matplotlib import pyplot as plt"
   ]
  },
  {
   "cell_type": "code",
   "execution_count": 119,
   "metadata": {},
   "outputs": [
    {
     "name": "stdout",
     "output_type": "stream",
     "text": [
      "/Users/joseferpaz/Documents/Vanderbilt Internship/fw_i3cm1i_3pluspoint_berglund_QPBO/berglund/QPBO/DixonApp/vtk\n"
     ]
    }
   ],
   "source": [
    "#########################################################################################\n",
    "###########################  Defining variables\n",
    "#########################################################################################\n",
    "\n",
    "i = 0\n",
    "path = '/Users/joseferpaz/Documents/Vanderbilt Internship/fw_i3cm1i_3pluspoint_berglund_QPBO/test_cases'\n",
    "file_list = os.listdir(path)    #This is a list of all of the .mat files\n",
    "vtk_max = 2**14-1\n",
    "\n",
    "\n",
    "### temporary AlgoParams substitute\n",
    "decoupled_estimation = True # flag for decoupled R2 estimation\n",
    "Fibonacci_search = True # flag for Fibonacci search\n",
    "B0_smooth_in_stack_direction = False # flag for B0 smooth in stack direction\n",
    "multigrid = True # flag for multi-level resolution pyramid\n",
    "estimate_R2 = True # flag to estimate R2star\"\"\"\n",
    "verbose = True# flag for verbose status messages (default false)\n",
    "R2_stepsize = 1\n",
    "mu = 10\n",
    "max_R2 = 120; # maximum R2 in s^-1\n",
    "max_label_change = 0.1; #\n",
    "fine_R2_stepsize = 1.0; # Fine stepsize for discretization of R2(*) [s^-1] (used in decoupled fine-tuning step)\n",
    "coarse_R2_stepsize = 10.0; # Coarse stepsize for discretization of R2(*) [s^-1] (used for joint estimation step, value 0.0 --> Decoupled estimation only\n",
    "water_R2 = 0.0; # Water R2 [sec-1]\n",
    "\n",
    "\n",
    "DixonApp_parent_folder = os.path.abspath('/Users/joseferpaz/Documents/Vanderbilt Internship/fw_i3cm1i_3pluspoint_berglund_QPBO/berglund/QPBO/DixonApp')\n",
    "DixonApp_vtk_folder = DixonApp_parent_folder + \"/vtk\"\n",
    "\n",
    "print DixonApp_vtk_folder\n",
    "\n",
    "DixonApp_vtk_prefix_input  = 'DixonApp_Input'\n",
    "DixonApp_vtk_prefix_output = 'DixonApp_Output'\n",
    "\n",
    "edit_path = path + '/' + file_list[i]\n",
    "header = \"\"\"\n",
    "    # vtk DataFile Version 3.0);\n",
    "    created by writeVTK (Matlab implementation by Erik Vidholm)\n",
    "    BINARY\n",
    "    DATASET STRUCTURED_POINTS\n",
    "    \"\"\""
   ]
  },
  {
   "cell_type": "code",
   "execution_count": 151,
   "metadata": {
    "collapsed": true
   },
   "outputs": [],
   "source": [
    "#########################################################################################\n",
    "############## writing VTK files\n",
    "#########################################################################################\n",
    "\n",
    "def write_VTK_simple(vol,vtkfile):\n",
    "    \n",
    "    print vtkfile\n",
    "    print vol.shape\n",
    "    print vol.dtype\n",
    "    \n",
    "    # eliminate echo dimension\n",
    "    vol = vol.squeeze()\n",
    "    \n",
    "    # byteswap when needed\n",
    "    vol = vol.byteswap()\n",
    "    \n",
    "    # make slice dimension the first index\n",
    "    vol = vol.transpose( (2, 0, 1) )\n",
    "\n",
    "    vol.astype('int16').tofile(vtkfile)\n",
    "    \n",
    "    with open(vtkfile, 'r+') as f:\n",
    "        content = f.read()\n",
    "        f.seek(0, 0)\n",
    "        f.write(header.rstrip('\\r\\n') + '\\n' + content)\n",
    "    \n",
    "    #plt.imshow(vol[:,:,0,0], interpolation='nearest', cmap='gray')\n",
    "    #plt.show()\n",
    "\n",
    "def write_VTK(vol,vtkfile):\n",
    "\n",
    "    #where vol is the 3D matrix... but is it really?\n",
    "    #it isn't but we ignore the rest because we don't need it\n",
    "    sz = np.shape(vol)\n",
    "    X = sz[0]\n",
    "    Y = sz[1]\n",
    "    Z = 1\n",
    "\n",
    "    if (len(sz) == 3):\n",
    "        Z = sz[2]\n",
    "\n",
    "    header = \"\"\"# vtk DataFile Version 3.0);\n",
    "created by writeVTK (Matlab implementation by Erik Vidholm... sort of)\n",
    "BINARY\n",
    "DATASET STRUCTURED_POINTS\n",
    "\"\"\"\n",
    "    \n",
    "    header += '%s%d%c%d%c%d\\n' % ('DIMENSIONS ', X, ' ', Y, ' ', Z);\n",
    "    header += '%s%f%c%f%c%f\\n' % ('ORIGIN ', 0.0, ' ', 0.0, ' ', 0.0);\n",
    "    header += '%s%f%c%f%c%f\\n' % ('SPACING ', 1.0, ' ', 1.0, ' ', 1.0);\n",
    "    header += '%s%d\\n' % ('POINT_DATA ', X*Y*Z);\n",
    "\n",
    "    vol_dataType = vol.dtype\n",
    "\n",
    "    if vol_dataType == 'uint8':\n",
    "        header += 'SCALARS image_data unsigned_char\\n'\n",
    "    elif vol_dataType == 'int8':\n",
    "        header += 'SCALARS image_data char\\n'\n",
    "    elif vol_dataType == 'uint16':\n",
    "        header += 'SCALARS image_data unsigned_short\\n'\n",
    "    elif vol_dataType == 'int16':\n",
    "        header += 'SCALARS image_data short\\n'\n",
    "    elif vol_dataType == 'uint32':\n",
    "        header += 'SCALARS image_data unsigned_int\\n'\n",
    "    elif vol_dataType == 'int32':\n",
    "        header += 'SCALARS image_data int\\n'\n",
    "    elif vol_dataType == 'float32':\n",
    "        header += 'SCALARS image_data float\\n'\n",
    "    elif vol_dataType == 'float64':\n",
    "        header += 'SCALARS image_data double\\n'\n",
    "\n",
    "    header += 'LOOKUP_TABLE default\\n' #Make sure to print 'header' to check\n",
    "    \n",
    "    # eliminate echo dimension\n",
    "    vol = vol.squeeze()\n",
    "    \n",
    "    # byteswap when needed\n",
    "    vol = vol.byteswap()\n",
    "    \n",
    "    # make slice dimension the first index\n",
    "    vol = vol.transpose( (2, 0, 1) )\n",
    "    \n",
    "    # write the data into the file\n",
    "    vol.astype('int16').tofile(vtkfile)\n",
    "    \n",
    "    #If writting files to check binary data, just comment the following 4 lines of code\n",
    "    with open(vtkfile, 'r+') as f:\n",
    "        content = f.read()\n",
    "        f.seek(0, 0)\n",
    "        f.write(header.rstrip('\\r\\n') + '\\n' + content)\n",
    "    \n",
    "    #plt.imshow(vol[:,:,0,0], interpolation='nearest', cmap='gray')\n",
    "    #plt.show()\n",
    "    \n"
   ]
  },
  {
   "cell_type": "code",
   "execution_count": 152,
   "metadata": {
    "collapsed": true
   },
   "outputs": [],
   "source": [
    "def read_VTK(vtkfile):\n",
    "\n",
    "    fid = open(vtkfile, \"r\")\n",
    "\n",
    "    fid.readline()  # vtk DataFile Version x.x\n",
    "    fid.readline() # comments\n",
    "    fid.readline() # BINARY\n",
    "    fid.readline() # DATASET STRUCTURED_POINTS\n",
    "\n",
    "    z = fid.readline() # DIMENSIONS NX NY NZ   #5\n",
    "\n",
    "    #sz = sscanf(s, '%*s%d%d%d')\n",
    "    sz = map(int, re.findall(r'\\d+', z))    #5\n",
    "\n",
    "    ###THE EXAMPLE TEST WAS READING LINES JUST Fine\n",
    "    ### KEEP AN EYE ON THE BINARY stuffVC\n",
    "\n",
    "\n",
    "    fid.readline() # ORIGIN OX OY OZ\n",
    "    fid.readline() # SPACING SX SY SZ\n",
    "    fid.readline() # POINT_DATA NXNYNZ\n",
    "\n",
    "\n",
    "    s = fid.readline() # SCALARS/VECTORS name data_type (ex: SCALARS imagedata unsigned_char)\n",
    "    #svstr = sscanf(s, '%s', 1);\n",
    "    #dtstr = sscanf(s, '%*s%*s%s');\n",
    "    ##### Not finished - still in MatLab\n",
    "    "
   ]
  },
  {
   "cell_type": "code",
   "execution_count": 147,
   "metadata": {
    "collapsed": true
   },
   "outputs": [],
   "source": [
    "#########################################################################################\n",
    "############## Calling the information from the mat file\n",
    "#########################################################################################\n",
    "\n",
    "mat = sio.loadmat(edit_path)\n",
    "\n",
    "## In the future this will be imported from another file ##\n",
    "num_array = mat['imDataParams']['images'] \n",
    "echo_times = mat['imDataParams']['TE']"
   ]
  },
  {
   "cell_type": "code",
   "execution_count": 148,
   "metadata": {},
   "outputs": [
    {
     "name": "stdout",
     "output_type": "stream",
     "text": [
      "The dimensions are: (192, 192, 4, 1, 6)\n",
      "4.69632e+07\n",
      "This is the MAX of the real # :  4.69632e+07\n",
      "This is the MAX of the imaginary # :  5.52753e+07\n",
      "This is the MAX out of both # :  5.52753e+07\n",
      "----------------------------------------------------------------------------------------------------\n",
      "These are the echo times:  [[ array([[ 0.001436,  0.003084,  0.004732,  0.00638 ,  0.008028,  0.009676]])]]\n"
     ]
    }
   ],
   "source": [
    "#all of this is supposed to happen for every mat file \n",
    "#but worry about that later\n",
    "\n",
    "image_array = num_array[0][0]\n",
    "\n",
    "        ##getting dimensions\n",
    "nx, ny, nz, nc, ne = np.shape(image_array)\n",
    "print \"The dimensions are:\" , np.shape(image_array)\n",
    "\n",
    "print np.max( np.real(image_array) )\n",
    "\n",
    "        ##get maximum values\n",
    "max_real = np.amax(abs(np.real(image_array)))\n",
    "max_imag = np.amax(abs(np.imag(image_array)))\n",
    "\n",
    "if max_real > max_imag:\n",
    "    images_max = max_real\n",
    "else:\n",
    "    images_max = max_imag\n",
    "\n",
    "print \"This is the MAX of the real # : \" , max_real\n",
    "print \"This is the MAX of the imaginary # : \" , max_imag\n",
    "print \"This is the MAX out of both # : \" , images_max\n",
    "print \"-\" * 100\n",
    "print \"These are the echo times: \" , echo_times\n"
   ]
  },
  {
   "cell_type": "code",
   "execution_count": 149,
   "metadata": {},
   "outputs": [
    {
     "name": "stdout",
     "output_type": "stream",
     "text": [
      "int16\n"
     ]
    }
   ],
   "source": [
    "#Attempting to get the values that are ultimately written in the file ----NOT FINISHED\n",
    "for idx_echo in range(ne):\n",
    "\n",
    "    image_re = np.array(np.real(image_array[:,:,:,:,idx_echo])*(vtk_max/images_max), dtype = np.int16)\n",
    "    image_im = np.array(np.imag(image_array[:,:,:,:,idx_echo])*(vtk_max/images_max), dtype = np.int16)\n",
    "\n",
    "    #vtk file names that have to be part of a loop\n",
    "    vtk_filename_re = '%s/%s_echo%04d_re.vtk' % (DixonApp_vtk_folder, DixonApp_vtk_prefix_input, idx_echo)\n",
    "    vtk_filename_im = '%s/%s_echo%04d_im.vtk' % (DixonApp_vtk_folder, DixonApp_vtk_prefix_input, idx_echo)\n",
    "\n",
    "    write_VTK(image_re, vtk_filename_re)\n",
    "    write_VTK(image_im, vtk_filename_im)\n",
    "\n",
    "    #Now as part of the loop, write the vtk files!\n",
    "\n",
    "    ## SO (one for the real and one for the imaginary ) for every iteration\n",
    "    ###print image_re.shape\n",
    "    ###print np.max(image_re)\n",
    "    ###print np.min(image_re)\n",
    "    ###print vtk_max\n",
    "    \n",
    "    ###plt.imshow(image_re[:,:,0,0], interpolation='nearest', cmap='gray')\n",
    "    ###plt.show()\n",
    "    \n",
    "    ###plt.imshow(image_im[:,:,0,0], interpolation='nearest', cmap='gray')\n",
    "    ###plt.show()\n",
    "\n"
   ]
  },
  {
   "cell_type": "code",
   "execution_count": 150,
   "metadata": {
    "collapsed": true
   },
   "outputs": [],
   "source": [
    "##########################################################################################\n",
    "########################### Making THE string\n",
    "##########################################################################################\n",
    "\n",
    "path_to_DixonApp_executable = DixonApp_parent_folder + \"/MAC/DixonApp_MAC.exe\"\n",
    "path_to_DixonApp_libraries = DixonApp_parent_folder + \"/MAC/lib\"\n",
    "system_command_string_prefix = 'export DYLD_LIBRARY_PATH=\"%s\"; \"%s\"' % (path_to_DixonApp_libraries, path_to_DixonApp_executable)"
   ]
  },
  {
   "cell_type": "code",
   "execution_count": 112,
   "metadata": {},
   "outputs": [
    {
     "name": "stdout",
     "output_type": "stream",
     "text": [
      "export DYLD_LIBRARY_PATH=\"/Users/joseferpaz/Documents/Vanderbilt Internship/fw_i3cm1i_3pluspoint_berglund_QPBO/berglund/QPBO/DixonApp/MAC/lib\"; \"/Users/joseferpaz/Documents/Vanderbilt Internship/fw_i3cm1i_3pluspoint_berglund_QPBO/berglund/QPBO/DixonApp/MAC/DixonApp_MAC.exe\" \"/Users/joseferpaz/Documents/Vanderbilt Internship/fw_i3cm1i_3pluspoint_berglund_QPBO/berglund/QPBO/DixonApp/vtk\" \"DixonApp_Input\" \"DixonApp_Output\" \"1\" \"1\" \"1\" \"1\" \"1\" \"0\" \"3.00000E+00\" \"1.00000e+01\" \"1.00000e+00\" \"1.20000e+02\" \"1.00000e-01\" \"1.00000e+00\" \"1.00000e+01\" \"0.00000e+00\"\n"
     ]
    }
   ],
   "source": [
    "#from here down in the making string section it doesn't work yet\n",
    "system_command_string_prefix = '%s \"%s\"' % (system_command_string_prefix, DixonApp_vtk_folder)\n",
    "system_command_string_prefix = '%s \"%s\"' % (system_command_string_prefix, DixonApp_vtk_prefix_input)\n",
    "system_command_string_prefix = '%s \"%s\"' % (system_command_string_prefix, DixonApp_vtk_prefix_output)\n",
    "\n",
    "\n",
    "system_command_string = system_command_string_prefix\n",
    "\n",
    "\n",
    "# flags (6)\n",
    "system_command_string = '%s \"%d\"' % (system_command_string, verbose);\n",
    "system_command_string = '%s \"%d\"' % (system_command_string, estimate_R2);\n",
    "system_command_string = '%s \"%d\"' % (system_command_string, decoupled_estimation);\n",
    "system_command_string = '%s \"%d\"' % (system_command_string, Fibonacci_search);\n",
    "system_command_string = '%s \"%d\"' % (system_command_string, multigrid);\n",
    "system_command_string = '%s \"%d\"' % (system_command_string, B0_smooth_in_stack_direction);\n",
    "\n",
    "# floats (11)\n",
    "\n",
    "F = mat['imDataParams']['FieldStrength']; FS = F[0][0]; ## temporary fix\n",
    "system_command_string = '%s \"%.5E\"' % (system_command_string, FS);\n",
    "\n",
    "system_command_string = '%s \"%.5e\"' % (system_command_string, mu)\n",
    "system_command_string ='%s \"%.5e\"' % (system_command_string, R2_stepsize)\n",
    "system_command_string ='%s \"%.5e\"' % (system_command_string, max_R2)\n",
    "system_command_string ='%s \"%.5e\"' % (system_command_string, max_label_change)\n",
    "#system_command_string = sprintf('%s \"%.5e\"', system_command_string, input.InplaneOverThroughplaneVoxelsize);\n",
    "system_command_string ='%s \"%.5e\"' % (system_command_string, fine_R2_stepsize)\n",
    "system_command_string ='%s \"%.5e\"' % (system_command_string, coarse_R2_stepsize)\n",
    "system_command_string ='%s \"%.5e\"' % (system_command_string, water_R2)\n",
    "\n",
    "print system_command_string\n",
    "\n"
   ]
  },
  {
   "cell_type": "code",
   "execution_count": null,
   "metadata": {
    "collapsed": true
   },
   "outputs": [],
   "source": []
  },
  {
   "cell_type": "code",
   "execution_count": null,
   "metadata": {
    "collapsed": true
   },
   "outputs": [],
   "source": []
  },
  {
   "cell_type": "code",
   "execution_count": null,
   "metadata": {
    "collapsed": true
   },
   "outputs": [],
   "source": []
  }
 ],
 "metadata": {
  "kernelspec": {
   "display_name": "Python 2",
   "language": "python",
   "name": "python2"
  },
  "language_info": {
   "codemirror_mode": {
    "name": "ipython",
    "version": 2
   },
   "file_extension": ".py",
   "mimetype": "text/x-python",
   "name": "python",
   "nbconvert_exporter": "python",
   "pygments_lexer": "ipython2",
   "version": "2.7.13"
  }
 },
 "nbformat": 4,
 "nbformat_minor": 2
}
