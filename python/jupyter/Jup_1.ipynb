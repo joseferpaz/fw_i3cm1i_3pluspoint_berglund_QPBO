{
 "cells": [
  {
   "cell_type": "markdown",
   "metadata": {},
   "source": [
    "Import needed modules"
   ]
  },
  {
   "cell_type": "code",
   "execution_count": 2,
   "metadata": {
    "collapsed": true
   },
   "outputs": [],
   "source": [
    "import scipy.io as sio\n",
    "import numpy as np\n",
    "import os, sys"
   ]
  },
  {
   "cell_type": "markdown",
   "metadata": {},
   "source": [
    "Path to test cases"
   ]
  },
  {
   "cell_type": "code",
   "execution_count": 3,
   "metadata": {
    "collapsed": true
   },
   "outputs": [],
   "source": [
    "path = '/Users/joseferpaz/Documents/Vanderbilt Internship/fw_i3cm1i_3pluspoint_berglund_QPBO/test_cases'"
   ]
  },
  {
   "cell_type": "code",
   "execution_count": 4,
   "metadata": {
    "collapsed": true
   },
   "outputs": [],
   "source": [
    "file_list = os.listdir(path)    #This is a list of all of the .mat files"
   ]
  },
  {
   "cell_type": "code",
   "execution_count": 5,
   "metadata": {},
   "outputs": [
    {
     "name": "stdout",
     "output_type": "stream",
     "text": [
      "['01.mat', '02.mat', '03.mat', '04.mat', '05.mat', '06.mat', '07.mat', '08.mat', '09.mat', '10.mat', '11.mat', '12.mat', '13.mat', '14.mat', '15.mat', '16.mat', '17.mat']\n"
     ]
    }
   ],
   "source": [
    "print file_list     #Just double checking..."
   ]
  },
  {
   "cell_type": "code",
   "execution_count": 6,
   "metadata": {
    "collapsed": true
   },
   "outputs": [],
   "source": [
    "#THIS IS READY TO DO EVERY FILE INDIVIDUALLY\n",
    "#for filename in file_list:\n",
    "edit_path = path + '/' + file_list[0]"
   ]
  },
  {
   "cell_type": "code",
   "execution_count": 7,
   "metadata": {
    "collapsed": true
   },
   "outputs": [],
   "source": [
    "mat = sio.loadmat(edit_path)"
   ]
  },
  {
   "cell_type": "code",
   "execution_count": 8,
   "metadata": {},
   "outputs": [
    {
     "name": "stdout",
     "output_type": "stream",
     "text": [
      "The dimensions are: 192 192 4 1 6\n"
     ]
    }
   ],
   "source": [
    "num_array = mat['imDataParams']['images']\n",
    "echo_times = mat['imDataParams']['TE']\n",
    "\n",
    "##getting dimensions\n",
    "nx, ny, nz, nc, ne = np.shape(num_array[0,0])\n",
    "print \"The dimensions are:\" , nx, ny, nz, nc, ne"
   ]
  },
  {
   "cell_type": "code",
   "execution_count": 9,
   "metadata": {
    "collapsed": true
   },
   "outputs": [],
   "source": [
    "DixonApp_parent_folder = os.path.dirname(os.path.abspath('/Users/joseferpaz/Documents/Vanderbilt Internship/fw_i3cm1i_3pluspoint_berglund_QPBO/berglund/QPBO/DixonApp'))\n",
    "DixonApp_vtk_folder = DixonApp_parent_folder + \"/vtk\"\n",
    "DixonApp_vtk_prefix_input  = 'DixonApp_Input'\n",
    "DixonApp_vtk_prefix_output = 'DixonApp_Output'"
   ]
  },
  {
   "cell_type": "code",
   "execution_count": 10,
   "metadata": {
    "collapsed": true
   },
   "outputs": [],
   "source": [
    "vtk_max = 2^14-1"
   ]
  },
  {
   "cell_type": "code",
   "execution_count": 11,
   "metadata": {
    "collapsed": true
   },
   "outputs": [],
   "source": [
    "##get maximum values\n",
    "max_real = np.amax(abs(np.real(num_array[0,0])))\n",
    "imag_real = np.amax(abs(np.imag(num_array[0,0])))\n",
    "\n",
    "if max_real > imag_real:\n",
    "    images_max = max_real\n",
    "else:\n",
    "    images_max = imag_real"
   ]
  },
  {
   "cell_type": "code",
   "execution_count": 12,
   "metadata": {},
   "outputs": [
    {
     "name": "stdout",
     "output_type": "stream",
     "text": [
      "This is the MAX of the real # :  4.69632e+07\n",
      "This is the MAX of the imaginary # :  5.52753e+07\n",
      "This is the MAX out of both # :  5.52753e+07\n",
      "----------------------------------------------------------------------------------------------------\n",
      "These are the echo times:  [[ array([[ 0.001436,  0.003084,  0.004732,  0.00638 ,  0.008028,  0.009676]])]]\n"
     ]
    }
   ],
   "source": [
    "print \"This is the MAX of the real # : \" , max_real\n",
    "print \"This is the MAX of the imaginary # : \" , imag_real\n",
    "print \"This is the MAX out of both # : \" , images_max\n",
    "print \"-\" * 100\n",
    "print \"These are the echo times: \" , echo_times"
   ]
  },
  {
   "cell_type": "code",
   "execution_count": 13,
   "metadata": {},
   "outputs": [
    {
     "ename": "NameError",
     "evalue": "name 'sub_num2' is not defined",
     "output_type": "error",
     "traceback": [
      "\u001b[0;31m---------------------------------------------------------------------------\u001b[0m",
      "\u001b[0;31mNameError\u001b[0m                                 Traceback (most recent call last)",
      "\u001b[0;32m<ipython-input-13-c9c091afe9ec>\u001b[0m in \u001b[0;36m<module>\u001b[0;34m()\u001b[0m\n\u001b[1;32m      1\u001b[0m \u001b[0;32mfrom\u001b[0m \u001b[0mmatplotlib\u001b[0m \u001b[0;32mimport\u001b[0m \u001b[0mpyplot\u001b[0m \u001b[0;32mas\u001b[0m \u001b[0mplt\u001b[0m\u001b[0;34m\u001b[0m\u001b[0m\n\u001b[0;32m----> 2\u001b[0;31m \u001b[0mplt\u001b[0m\u001b[0;34m.\u001b[0m\u001b[0mimshow\u001b[0m\u001b[0;34m(\u001b[0m\u001b[0mnp\u001b[0m\u001b[0;34m.\u001b[0m\u001b[0mimag\u001b[0m\u001b[0;34m(\u001b[0m\u001b[0msub_num2\u001b[0m\u001b[0;34m[\u001b[0m\u001b[0;34m:\u001b[0m\u001b[0;34m,\u001b[0m\u001b[0;34m:\u001b[0m\u001b[0;34m,\u001b[0m\u001b[0;36m0\u001b[0m\u001b[0;34m,\u001b[0m\u001b[0;36m0\u001b[0m\u001b[0;34m,\u001b[0m\u001b[0;36m0\u001b[0m\u001b[0;34m]\u001b[0m\u001b[0;34m)\u001b[0m\u001b[0;34m,\u001b[0m \u001b[0minterpolation\u001b[0m\u001b[0;34m=\u001b[0m\u001b[0;34m'nearest'\u001b[0m\u001b[0;34m)\u001b[0m\u001b[0;34m\u001b[0m\u001b[0m\n\u001b[0m\u001b[1;32m      3\u001b[0m \u001b[0mplt\u001b[0m\u001b[0;34m.\u001b[0m\u001b[0mshow\u001b[0m\u001b[0;34m(\u001b[0m\u001b[0;34m)\u001b[0m\u001b[0;34m\u001b[0m\u001b[0m\n",
      "\u001b[0;31mNameError\u001b[0m: name 'sub_num2' is not defined"
     ]
    }
   ],
   "source": [
    "from matplotlib import pyplot as plt\n",
    "plt.imshow(np.imag(sub_num2[:,:,0,0,0]), interpolation='nearest')\n",
    "plt.show()"
   ]
  },
  {
   "cell_type": "code",
   "execution_count": null,
   "metadata": {},
   "outputs": [],
   "source": [
    "#Attempting to get the values that are ultimately written in the file ----NOT FINISHED\n",
    "sub_num2 = num_array[0,0]\n",
    "for idx_echo in range(1,ne):\n",
    "    image_re = np.real(sub_num2[:,:,:,:,idx_echo])*(vtk_max/images_max)\n",
    "    image_im = np.imag(sub_num2[:,:,:,:,idx_echo])*(vtk_max/images_max)\n",
    "\n",
    "    #vtk file names that have to be part of a loop\n",
    "    vtk_filename_re = '%s/%s_echo%04d_re.vtk' % (DixonApp_vtk_folder, DixonApp_vtk_prefix_input, idx_echo)\n",
    "    vtk_filename_im = '%s/%s_echo%04d_im.vtk' % (DixonApp_vtk_folder, DixonApp_vtk_prefix_input, idx_echo)\n",
    "\n",
    "    print vtk_filename_re\n",
    "    print vtk_filename_im\n",
    "    #Now as part of the loop, write the vtk files,\n",
    "    ## SO (one for the real and one for the imaginary ) for every iteration"
   ]
  },
  {
   "cell_type": "code",
   "execution_count": 14,
   "metadata": {},
   "outputs": [
    {
     "name": "stdout",
     "output_type": "stream",
     "text": [
      "Variable                     Type       Data/Info\n",
      "-------------------------------------------------\n",
      "DixonApp_parent_folder       str        /Users/joseferpaz/Documen<...>rglund_QPBO/berglund/QPBO\n",
      "DixonApp_vtk_folder          str        /Users/joseferpaz/Documen<...>nd_QPBO/berglund/QPBO/vtk\n",
      "DixonApp_vtk_prefix_input    str        DixonApp_Input\n",
      "DixonApp_vtk_prefix_output   str        DixonApp_Output\n",
      "echo_times                   ndarray    1x1: 1 elems, type `object`, 8 bytes\n",
      "edit_path                    str        /Users/joseferpaz/Documen<...>nd_QPBO/test_cases/01.mat\n",
      "file_list                    list       n=17\n",
      "imag_real                    float32    5.52753e+07\n",
      "images_max                   float32    5.52753e+07\n",
      "mat                          dict       n=4\n",
      "max_real                     float32    4.69632e+07\n",
      "nc                           int        1\n",
      "ne                           int        6\n",
      "np                           module     <module 'numpy' from '/Us<...>ages/numpy/__init__.pyc'>\n",
      "num_array                    ndarray    1x1: 1 elems, type `object`, 8 bytes\n",
      "nx                           int        192\n",
      "ny                           int        192\n",
      "nz                           int        4\n",
      "os                           module     <module 'os' from '/Users<...>da/lib/python2.7/os.pyc'>\n",
      "path                         str        /Users/joseferpaz/Documen<...>_berglund_QPBO/test_cases\n",
      "plt                          module     <module 'matplotlib.pyplo<...>s/matplotlib/pyplot.pyc'>\n",
      "sio                          module     <module 'scipy.io' from '<...>s/scipy/io/__init__.pyc'>\n",
      "sys                          module     <module 'sys' (built-in)>\n",
      "vtk_max                      int        15\n"
     ]
    }
   ],
   "source": [
    "whos"
   ]
  },
  {
   "cell_type": "code",
   "execution_count": 15,
   "metadata": {},
   "outputs": [
    {
     "ename": "AttributeError",
     "evalue": "'dict' object has no attribute 'whos'",
     "output_type": "error",
     "traceback": [
      "\u001b[0;31m---------------------------------------------------------------------------\u001b[0m",
      "\u001b[0;31mAttributeError\u001b[0m                            Traceback (most recent call last)",
      "\u001b[0;32m<ipython-input-15-589099de587a>\u001b[0m in \u001b[0;36m<module>\u001b[0;34m()\u001b[0m\n\u001b[0;32m----> 1\u001b[0;31m \u001b[0mmat\u001b[0m\u001b[0;34m.\u001b[0m\u001b[0mwhos\u001b[0m\u001b[0;34m\u001b[0m\u001b[0m\n\u001b[0m",
      "\u001b[0;31mAttributeError\u001b[0m: 'dict' object has no attribute 'whos'"
     ]
    }
   ],
   "source": [
    "mat.whos"
   ]
  },
  {
   "cell_type": "code",
   "execution_count": null,
   "metadata": {
    "collapsed": true
   },
   "outputs": [],
   "source": []
  }
 ],
 "metadata": {
  "kernelspec": {
   "display_name": "Python 2",
   "language": "python",
   "name": "python2"
  },
  "language_info": {
   "codemirror_mode": {
    "name": "ipython",
    "version": 2
   },
   "file_extension": ".py",
   "mimetype": "text/x-python",
   "name": "python",
   "nbconvert_exporter": "python",
   "pygments_lexer": "ipython2",
   "version": "2.7.13"
  }
 },
 "nbformat": 4,
 "nbformat_minor": 2
}
